{
 "cells": [
  {
   "cell_type": "markdown",
   "id": "0031b1cd-8fd6-44c6-ab69-0000ef340330",
   "metadata": {},
   "source": [
    "# Data Science Tools and Ecosystem"
   ]
  },
  {
   "cell_type": "markdown",
   "id": "7475b7f2-9ae6-4196-b3cc-42c98536add7",
   "metadata": {},
   "source": [
    "In this notebook, Data Science Tools and Ecosystem are summarized."
   ]
  },
  {
   "cell_type": "markdown",
   "id": "90e8d87d-a718-4b21-a6cd-926598af689c",
   "metadata": {},
   "source": [
    "**Objectives:**\n",
    "\n",
    "* Python\n",
    "* R\n",
    "* Julia\n",
    "* Java"
   ]
  },
  {
   "cell_type": "markdown",
   "id": "c412e7a7-7885-4df6-866e-edd9f5a29634",
   "metadata": {},
   "source": [
    "Some of the popular languages that Data Scientists use are:\n",
    "\n",
    "1. Python\n",
    "2. R\n",
    "3. Julia"
   ]
  },
  {
   "cell_type": "markdown",
   "id": "579fc0a8-c3e6-4dad-8772-12515a2a92e3",
   "metadata": {},
   "source": [
    "Some of the commonly used libraries used by Data Scientists include:\n",
    "\n",
    "1. Scikit Learn\n",
    "2. Pandas\n",
    "3. Numpy "
   ]
  },
  {
   "cell_type": "markdown",
   "id": "613ac174-4bd5-4620-a04e-d0fa07005e56",
   "metadata": {},
   "source": [
    "|Data Science Tools|\n",
    "|------------------|\n",
    "|Jupyter Notebook  |\n",
    "|RStudio           |\n",
    "|VSCode            |"
   ]
  },
  {
   "cell_type": "markdown",
   "id": "ee9b6bed-adb1-4c5f-b4fb-b950a1be2ac1",
   "metadata": {},
   "source": [
    "### Below are a few examples of evaluating arithmetic expressions in Python"
   ]
  },
  {
   "cell_type": "code",
   "execution_count": 4,
   "id": "14fd743a-dadf-413c-b43c-2645d951ab3f",
   "metadata": {},
   "outputs": [
    {
     "data": {
      "text/plain": [
       "17"
      ]
     },
     "execution_count": 4,
     "metadata": {},
     "output_type": "execute_result"
    }
   ],
   "source": [
    "# This a simple arithmetic expression to mutiply then add integers\n",
    "(3*4)+5"
   ]
  },
  {
   "cell_type": "code",
   "execution_count": 6,
   "id": "9656c0e7-27a7-4741-b9f8-39517f1ab817",
   "metadata": {},
   "outputs": [
    {
     "data": {
      "text/plain": [
       "3.3333333333333335"
      ]
     },
     "execution_count": 6,
     "metadata": {},
     "output_type": "execute_result"
    }
   ],
   "source": [
    "# This will convert 200 minutes to hours by diving by 60\n",
    "200 / 60"
   ]
  },
  {
   "cell_type": "markdown",
   "id": "2031d796-b33d-43d1-8104-ae4f53ae1abe",
   "metadata": {},
   "source": [
    "## Author\n",
    "Guilherme Andrade Del Cantoni"
   ]
  },
  {
   "cell_type": "code",
   "execution_count": null,
   "id": "822548b3-0190-4ee4-99d0-85c8c3faf10b",
   "metadata": {},
   "outputs": [],
   "source": []
  }
 ],
 "metadata": {
  "kernelspec": {
   "display_name": "Python 3 (ipykernel)",
   "language": "python",
   "name": "python3"
  },
  "language_info": {
   "codemirror_mode": {
    "name": "ipython",
    "version": 3
   },
   "file_extension": ".py",
   "mimetype": "text/x-python",
   "name": "python",
   "nbconvert_exporter": "python",
   "pygments_lexer": "ipython3",
   "version": "3.10.12"
  }
 },
 "nbformat": 4,
 "nbformat_minor": 5
}
